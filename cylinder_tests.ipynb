{
 "cells": [
  {
   "cell_type": "code",
   "execution_count": 1,
   "metadata": {},
   "outputs": [],
   "source": [
    "import ctypes\n",
    "import sys\n",
    "import numpy as np\n",
    "import os\n",
    "import matplotlib.pyplot as plt"
   ]
  },
  {
   "cell_type": "code",
   "execution_count": 2,
   "metadata": {},
   "outputs": [],
   "source": [
    "os.system(\"cd cpp_code; make DSS\")\n",
    "lib=ctypes.CDLL(\"./cpp_code/DSS.so\")"
   ]
  },
  {
   "cell_type": "code",
   "execution_count": 3,
   "metadata": {},
   "outputs": [
    {
     "data": {
      "text/plain": [
       "775"
      ]
     },
     "execution_count": 3,
     "metadata": {},
     "output_type": "execute_result"
    }
   ],
   "source": [
    "#a_initial = 0.00025\n",
    "a_initial = 0.000025\n",
    "a_final = 1.01\n",
    "\n",
    "initialise_new_Universe_with_Matter_content = lib.initialise_new_Universe_with_Matter_content\n",
    "# initialise_new_Universe_with_Matter_content          (double a_initial,  double a_final,  double Omega_m,  double Omega_b,  double Omega_r,  double Omega_L,  double sigma_8,      double n_s,    double h_100,       double w0,       double w1)\n",
    "initialise_new_Universe_with_Matter_content.argtypes = [ ctypes.c_double, ctypes.c_double, ctypes.c_double, ctypes.c_double, ctypes.c_double, ctypes.c_double, ctypes.c_double, ctypes.c_double, ctypes.c_double, ctypes.c_double, ctypes.c_double]\n",
    "\n",
    "# Cosmology of Quijote sims\n",
    "#Omfid = 0.3175\n",
    "#Obfid = 0.049\n",
    "#hfid = 0.6711\n",
    "#nsfid = 0.9624\n",
    "#sig8fid = 0.834\n",
    "\n",
    "\n",
    "# Cosmology of Marc's sims\n",
    "Omfid = 0.25\n",
    "Obfid = 0.04\n",
    "hfid = 0.7\n",
    "nsfid = 1.0\n",
    "sig8fid = 0.8\n",
    "z=0.9744\n",
    "\n",
    "initialise_new_Universe_with_Matter_content(a_initial, a_final, Omfid, Obfid, 0.0, 1.0-Omfid, sig8fid, nsfid, hfid, -1.0, 0.0)\n"
   ]
  },
  {
   "cell_type": "code",
   "execution_count": 4,
   "metadata": {},
   "outputs": [],
   "source": [
    "\n",
    "# N_delta has to be hardcoded, because is it needed for defining the python-c++ interface\n",
    "N_delta = 1000\n",
    "delta_min = -0.7\n",
    "delta_max = 1.0\n",
    "\n",
    "return_PDF = lib.return_PDF_2D\n",
    "# return_PDF_2D       (                   double* delta_values,                                      double* PDF,  int n_delta, double delta_min, double delta_max,        double z, double R_in_comoving_Mpc, double L_in_comoving_Mpc,     double f_NL, double var_NL_rescale, int index_of_universe)\n",
    "return_PDF.argtypes = [ctypes.POINTER(ctypes.c_double*N_delta),          ctypes.POINTER(ctypes.c_double*N_delta), ctypes.c_int,  ctypes.c_double,  ctypes.c_double, ctypes.c_double,          ctypes.c_double,          ctypes.c_double, ctypes.c_double,       ctypes.c_double,          ctypes.c_int]\n",
    "\n",
    "## This function returns the probability distribution function (PDF) of the 3D matter density field\n",
    "# - at redshift z\n",
    "# - top-hat smoothing radius R [Mpc/h]\n",
    "# - with primordial bispectrum amplitute f_NL\n",
    "# - non-linear variance being var_NL_rescale*halofit (Takahashi et al. 2012, Smith et al. 2003)\n",
    "# - for universe index_of_universe (= 0 if you have only created one universe\n",
    "def PDF_from_inv_Laplace_transform(z, R, L, f_NL, var_NL_rescale, index_of_universe):\n",
    "    delta_values     = (ctypes.c_double*N_delta)()\n",
    "    PDF_values       = (ctypes.c_double*N_delta)()\n",
    "    return_PDF(ctypes.byref(delta_values), ctypes.byref(PDF_values),N_delta, delta_min, delta_max , z, R, L, f_NL, var_NL_rescale, index_of_universe)\n",
    "    return np.array(delta_values), np.array(PDF_values)\n",
    "\n"
   ]
  },
  {
   "cell_type": "code",
   "execution_count": 17,
   "metadata": {},
   "outputs": [],
   "source": [
    "delta_values, PDF_values = PDF_from_inv_Laplace_transform(z, 15.0, 200.0, 0.0, 0.940271345803, 0)"
   ]
  },
  {
   "cell_type": "code",
   "execution_count": 18,
   "metadata": {},
   "outputs": [],
   "source": [
    "data_marc_Gaussian = np.loadtxt(\"../Density_Split_Statistics/data_for_2D_PNG_paper/Gaussian_sim_Marc_PDF_compensated_tsc_R15_L200.dat\")\n",
    "\n",
    "delta_marc = 0.5*(data_marc_Gaussian[:,0]+data_marc_Gaussian[:,1])-1.0\n",
    "p_marc = data_marc_Gaussian[:,2]\n",
    "\n",
    "p_marc = np.interp(delta_values, delta_marc, p_marc)\n",
    "delta_marc = delta_values"
   ]
  },
  {
   "cell_type": "code",
   "execution_count": 19,
   "metadata": {},
   "outputs": [
    {
     "name": "stdout",
     "output_type": "stream",
     "text": [
      "1.0000360933492916 0.00010492188166640048 0.018339592185493213\n",
      "0.9999997861853692 -2.8595590870206244e-07 0.01833912106764138\n"
     ]
    }
   ],
   "source": [
    "ddelta=delta_values[1]-delta_values[0]\n",
    "print np.sum(ddelta*PDF_values*delta_values**0),np.sum(ddelta*PDF_values*delta_values**1),np.sum(ddelta*PDF_values*delta_values**2)\n",
    "#ddelta=delta_marc[1]-delta_marc[0]\n",
    "print np.sum(ddelta*p_marc*delta_marc**0),np.sum(ddelta*p_marc*delta_marc**1),np.sum(ddelta*p_marc*delta_marc**2)\n"
   ]
  },
  {
   "cell_type": "code",
   "execution_count": 16,
   "metadata": {},
   "outputs": [
    {
     "name": "stdout",
     "output_type": "stream",
     "text": [
      "0.940271345803\n"
     ]
    }
   ],
   "source": [
    "print 0.01833912106764138/0.019504073105601302"
   ]
  },
  {
   "cell_type": "code",
   "execution_count": 20,
   "metadata": {},
   "outputs": [
    {
     "data": {
      "text/plain": [
       "(-0.5, 0.7)"
      ]
     },
     "execution_count": 20,
     "metadata": {},
     "output_type": "execute_result"
    },
    {
     "data": {
      "image/png": "[encoded data removed]",
      "text/plain": [
       "<matplotlib.figure.Figure at 0x11f919f50>"
      ]
     },
     "metadata": {
      "needs_background": "light"
     },
     "output_type": "display_data"
    }
   ],
   "source": [
    "plt.plot(delta_values, PDF_values)\n",
    "plt.plot(delta_marc, p_marc)\n",
    "plt.xlim(-0.5, 0.7)"
   ]
  },
  {
   "cell_type": "code",
   "execution_count": 23,
   "metadata": {},
   "outputs": [
    {
     "data": {
      "text/plain": [
       "(-0.02, 0.02)"
      ]
     },
     "execution_count": 23,
     "metadata": {},
     "output_type": "execute_result"
    },
    {
     "data": {
      "image/png": "[encoded data removed]",
      "text/plain": [
       "<matplotlib.figure.Figure at 0x120e450d0>"
      ]
     },
     "metadata": {
      "needs_background": "light"
     },
     "output_type": "display_data"
    }
   ],
   "source": [
    "plt.plot(delta_values, p_marc/PDF_values-1.0)\n",
    "plt.xlim(-0.5, 0.7)\n",
    "plt.ylim(-0.02, 0.02)"
   ]
  },
  {
   "cell_type": "code",
   "execution_count": 26,
   "metadata": {},
   "outputs": [
    {
     "data": {
      "text/plain": [
       "[<matplotlib.lines.Line2D at 0x10f2d0cd0>]"
      ]
     },
     "execution_count": 26,
     "metadata": {},
     "output_type": "execute_result"
    },
    {
     "data": {
      "image/png": "[encoded data removed]",
      "text/plain": [
       "<matplotlib.figure.Figure at 0x10f2e2cd0>"
      ]
     },
     "metadata": {
      "needs_background": "light"
     },
     "output_type": "display_data"
    }
   ],
   "source": [
    "x = np.arange(0.001, 200.0, 0.1)\n",
    "plt.plot(x, np.sin(x)/x)"
   ]
  },
  {
   "cell_type": "code",
   "execution_count": null,
   "metadata": {},
   "outputs": [],
   "source": []
  }
 ],
 "metadata": {
  "anaconda-cloud": {
   "environment": null,
   "summary": "trough lenser python notebook",
   "url": "https://anaconda.org/danielgruen/returning_data_vector_to_notebook-py"
  },
  "kernelspec": {
   "display_name": "Python 2",
   "language": "python",
   "name": "python2"
  },
  "language_info": {
   "codemirror_mode": {
    "name": "ipython",
    "version": 2
   },
   "file_extension": ".py",
   "mimetype": "text/x-python",
   "name": "python",
   "nbconvert_exporter": "python",
   "pygments_lexer": "ipython2",
   "version": "2.7.16"
  }
 },
 "nbformat": 4,
 "nbformat_minor": 1
}
