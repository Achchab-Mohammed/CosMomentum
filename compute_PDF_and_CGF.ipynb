{
 "cells": [
  {
   "cell_type": "markdown",
   "metadata": {},
   "source": [
    "# Example Notebook for use of CosMomentum\n",
    "## Table of contents:\n",
    "\n",
    "- Section 1: initialising a universe and its matter content\n",
    "- Section 2: computing the PDF of matter density fluctuations\n",
    "- Section 3: computing the cumulant generating function and individual connected moments\n",
    "- Section 4: creating 3D galaxy samples and computing their counts-in-cells PDF\n",
    "- Section 5: creating line-of-sight projected galaxy samples and computing their counts-in-cells PDF"
   ]
  },
  {
   "cell_type": "code",
   "execution_count": 1,
   "metadata": {},
   "outputs": [],
   "source": [
    "# loading required packages\n",
    "import ctypes\n",
    "import sys\n",
    "import numpy as np\n",
    "import os\n",
    "import matplotlib.pyplot as plt"
   ]
  },
  {
   "cell_type": "code",
   "execution_count": 2,
   "metadata": {},
   "outputs": [],
   "source": [
    "# compiling and loading c++ library\n",
    "os.system(\"cd cpp_code; make DSS\")\n",
    "lib=ctypes.CDLL(\"./cpp_code/DSS.so\")"
   ]
  },
  {
   "cell_type": "code",
   "execution_count": 3,
   "metadata": {},
   "outputs": [],
   "source": [
    "#np.loadtxt(\"stop\")"
   ]
  },
  {
   "cell_type": "markdown",
   "metadata": {},
   "source": [
    "# Section 1: initialising a universe and its matter content"
   ]
  },
  {
   "cell_type": "code",
   "execution_count": 4,
   "metadata": {},
   "outputs": [],
   "source": [
    "# initialising a new universe and its matter content\n",
    "a_initial = 0.000025\n",
    "a_final = 1.0\n",
    "\n",
    "initialise_new_Universe = lib.initialise_new_Universe\n",
    "# initialise_new_Universe          (double a_initial,  double a_final,  double Omega_m,  double Omega_b,  double Omega_r,  double Omega_L,  double sigma_8,      double n_s,    double h_100,       double w0,       double w1)\n",
    "initialise_new_Universe.argtypes = [ ctypes.c_double, ctypes.c_double, ctypes.c_double, ctypes.c_double, ctypes.c_double, ctypes.c_double, ctypes.c_double, ctypes.c_double, ctypes.c_double, ctypes.c_double, ctypes.c_double]\n",
    "initialise_new_Universe.restype = None\n",
    "\n",
    "# Cosmology of Quijote sims\n",
    "Omfid = 0.3175\n",
    "Obfid = 0.049\n",
    "hfid = 0.6711\n",
    "nsfid = 0.9624\n",
    "sig8fid = 0.834\n",
    "\n",
    "# Cosmology of DEUS sims\n",
    "Omfid = 0.2573\n",
    "Obfid = 0.04356 \n",
    "hfid = 0.7200\n",
    "nsfid = 0.9630\n",
    "sig8fid = 0.8010\n",
    "\n",
    "# Cosmology of Buzzard sims\n",
    "Omfid = 0.286\n",
    "Obfid = 0.047\n",
    "hfid = 0.7\n",
    "nsfid = 0.96\n",
    "sig8fid = 0.82\n",
    "\n",
    "z = 1.0 # everywhere in this notebook\n",
    "\n",
    "initialise_new_Universe(a_initial, a_final, Omfid, Obfid, 0.0, 1.0-Omfid, sig8fid, nsfid, hfid, -1.0, 0.0)\n"
   ]
  },
  {
   "cell_type": "markdown",
   "metadata": {},
   "source": [
    "### Computing the skewness of the linear density field\n",
    "### Defining $\\epsilon_3(R) \\equiv <\\delta_R^3>/\\sigma_R^2$ the function set_primordial_skewness_from_eps3_powerlaw_approximation assumed that $\\epsilon_3(R) \\approx A_{\\epsilon_3}*(R/R_0)^{n_{\\epsilon_3}}$ and computes $A_{\\epsilon_3}$ and $n_{\\epsilon_3}$ at $R = R_0$.\n",
    "### Alternatively, see also set_primordial_skewness and set_primordial_skewness_from_file in python_interfaces.cpp"
   ]
  },
  {
   "cell_type": "code",
   "execution_count": 5,
   "metadata": {},
   "outputs": [],
   "source": [
    "\n",
    "set_primordial_skewness_from_eps3_powerlaw_approximation = lib.set_primordial_skewness_from_eps3_powerlaw_approximation\n",
    "# set_primordial_skewness_from_eps3_powerlaw_approximation          (int index_of_universe, int PNG_modus, double R_0_in_Mpc_over_h)\n",
    "set_primordial_skewness_from_eps3_powerlaw_approximation.argtypes = [           ctypes.c_int,  ctypes.c_int,          ctypes.c_double]\n",
    "set_primordial_skewness_from_eps3_powerlaw_approximation.restype = None\n",
    "\n",
    "set_primordial_skewness_from_eps3_powerlaw_approximation(0, 1, 15.0)"
   ]
  },
  {
   "cell_type": "markdown",
   "metadata": {},
   "source": [
    "# Section 2: computing the PDF of matter density fluctuations"
   ]
  },
  {
   "cell_type": "code",
   "execution_count": 6,
   "metadata": {},
   "outputs": [],
   "source": [
    "\n",
    "# N_delta has to be hardcoded, because is it needed for defining the python-c++ interface\n",
    "return_Ndelta = lib.return_Ndelta\n",
    "return_Ndelta.argtypes = []\n",
    "return_Ndelta.restype = ctypes.c_int\n",
    "N_delta = return_Ndelta()\n",
    "\n",
    "return_PDF = lib.return_PDF\n",
    "# return_PDF          (                   double* delta_values,                                      double* PDF,        double z, double R_in_comoving_Mpc,     double f_NL, double var_NL_rescale, int index_of_universe)\n",
    "return_PDF.argtypes = [ctypes.POINTER(ctypes.c_double*N_delta),          ctypes.POINTER(ctypes.c_double*N_delta), ctypes.c_double,          ctypes.c_double, ctypes.c_double,       ctypes.c_double,          ctypes.c_int]\n",
    "return_PDF.restype = None\n",
    "\n",
    "## This function returns the probability distribution function (PDF) of the 3D matter density field\n",
    "# - at redshift z\n",
    "# - top-hat smoothing radius R [Mpc/h]\n",
    "# - with primordial bispectrum amplitute f_NL\n",
    "# - non-linear variance being var_NL_rescale*halofit (Takahashi et al. 2012, Smith et al. 2003)\n",
    "# - for universe index_of_universe (= 0 if you have only created one universe\n",
    "def PDF_from_inv_Laplace_transform(z, R, f_NL, var_NL_rescale, index_of_universe):\n",
    "    delta_values     = (ctypes.c_double*N_delta)()\n",
    "    PDF_values       = (ctypes.c_double*N_delta)()\n",
    "    return_PDF(ctypes.byref(delta_values), ctypes.byref(PDF_values), z, R, f_NL, var_NL_rescale, index_of_universe)\n",
    "    return np.array(delta_values), np.array(PDF_values)\n",
    "\n",
    "\n",
    "\n",
    "return_Nlambda = lib.return_Nlambda\n",
    "return_Nlambda.argtypes = [ctypes.c_int]\n",
    "return_Nlambda.restype = ctypes.c_int\n",
    "N_lambda = return_Nlambda(0)\n",
    "\n",
    "return_CGF = lib.return_CGF\n",
    "#           return_CGF(                         double* delta_L,                         double* delta_NL,                           double* lambda,                              double* phi,                     double* lambda_Gauss,                        double* phi_Gauss,                        double* variances,                       double* skewnesses,                              double* R_L,        double z, double R_in_comoving_Mpc,     double f_NL, double var_NL_rescale, int index_of_universe)\n",
    "return_CGF.argtypes = [ctypes.POINTER(ctypes.c_double*N_lambda), ctypes.POINTER(ctypes.c_double*N_lambda), ctypes.POINTER(ctypes.c_double*N_lambda), ctypes.POINTER(ctypes.c_double*N_lambda), ctypes.POINTER(ctypes.c_double*N_lambda), ctypes.POINTER(ctypes.c_double*N_lambda), ctypes.POINTER(ctypes.c_double*N_lambda), ctypes.POINTER(ctypes.c_double*N_lambda), ctypes.POINTER(ctypes.c_double*N_lambda), ctypes.c_double,          ctypes.c_double, ctypes.c_double,       ctypes.c_double,          ctypes.c_int]\n",
    "return_CGF.restype = None\n",
    "\n",
    "## This function returns the cumulant generating function (CGF) of the 3D matter density field\n",
    "# - at redshift z\n",
    "# - top-hat smoothing radius R [Mpc/h]\n",
    "# - with primordial bispectrum amplitute f_NL\n",
    "# - non-linear variance being var_NL_rescale*halofit (Takahashi et al. 2012, Smith et al. 2003)\n",
    "# - for universe index_of_universe (= 0 if you have only created one universe)\n",
    "def CGF(z, R, f_NL, var_NL_rescale, index_of_universe):\n",
    "    delta_L_values        = (ctypes.c_double*N_lambda)()\n",
    "    delta_NL_values       = (ctypes.c_double*N_lambda)()\n",
    "    lambda_values         = (ctypes.c_double*N_lambda)()\n",
    "    phi_values            = (ctypes.c_double*N_lambda)()\n",
    "    lambda_values_Gauss   = (ctypes.c_double*N_lambda)()\n",
    "    phi_values_Gauss      = (ctypes.c_double*N_lambda)()\n",
    "    variances             = (ctypes.c_double*N_lambda)()\n",
    "    skewnesses            = (ctypes.c_double*N_lambda)()\n",
    "    R_L_values            = (ctypes.c_double*N_lambda)()\n",
    "    \n",
    "    return_CGF(ctypes.byref(delta_L_values), ctypes.byref(delta_NL_values), ctypes.byref(lambda_values), ctypes.byref(phi_values), ctypes.byref(lambda_values_Gauss), ctypes.byref(phi_values_Gauss), ctypes.byref(variances), ctypes.byref(skewnesses), ctypes.byref(R_L_values), z, R, f_NL, var_NL_rescale, index_of_universe)\n",
    "    return np.array(delta_L_values), np.array(delta_NL_values), np.array(lambda_values), np.array(phi_values), np.array(lambda_values_Gauss), np.array(phi_values_Gauss), np.array(variances), np.array(skewnesses), np.array(R_L_values)\n",
    "\n",
    "## This function returns the PDF of the 3D matter density field using a saddle point\n",
    "## approximation to solve the inverse Laplace transform that relates PDF and CGF.\n",
    "# - at redshift z\n",
    "# - top-hat smoothing radius R [Mpc/h]\n",
    "# - with primordial bispectrum amplitute f_NL\n",
    "# - non-linear variance being var_NL_rescale*halofit (Takahashi et al. 2012, Smith et al. 2003)\n",
    "# - for universe index_of_universe (= 0 if you have only created one universe\n",
    "def PDF_from_saddlepoint(z, R, delta_min, delta_max, f_NL, var_NL_rescale, index_of_universe):\n",
    "    d_L, d_NL, l, phi, l_G, phi_G, var, skew, R_L = CGF(z, R, f_NL, var_NL_rescale, index_of_universe)\n",
    "    Nl = len(l)\n",
    "    l_plus   = l[1:]\n",
    "    l_minus  = l[:Nl-1]\n",
    "    l_center = 0.5*(l_plus+l_minus)\n",
    "    d_NL_plus  = d_NL[1:]\n",
    "    d_NL_minus = d_NL[:Nl-1]\n",
    "    d_NL_center = 0.5*(d_NL_plus+d_NL_minus)\n",
    "    d_NL_prime = (d_NL_plus-d_NL_minus)/(l_plus-l_minus)\n",
    "    ddelta = (delta_max-delta_min)/float(N_delta-1)\n",
    "    delta_values     = np.arange(0, N_delta)*ddelta+delta_min\n",
    "    PDF_values       = np.zeros(N_delta)\n",
    "    phi_interp = np.interp(delta_values, d_NL, phi)\n",
    "    phi_prime_prime_interp = np.interp(delta_values, d_NL_center, d_NL_prime)\n",
    "    l_interp = np.interp(delta_values, d_NL, l)\n",
    "    indeces = np.where(phi_prime_prime_interp>0.0)[0]\n",
    "    PDF_values[indeces]       = np.exp(-l_interp[indeces]*delta_values[indeces]+phi_interp[indeces])/np.sqrt(2.0*np.pi*phi_prime_prime_interp[indeces])\n",
    "    return delta_values, PDF_values"
   ]
  },
  {
   "cell_type": "code",
   "execution_count": 7,
   "metadata": {},
   "outputs": [],
   "source": [
    "# PDF from full inverse Laplace transform of the cumulant generating function\n",
    "# assuming f_NL = 0.0\n",
    "delta_values, PDF_values = PDF_from_inv_Laplace_transform(z, 15.0, 0.0, 1.0, 0)"
   ]
  },
  {
   "cell_type": "code",
   "execution_count": 8,
   "metadata": {},
   "outputs": [],
   "source": [
    "# PDF from full inverse Laplace transform of the cumulant generating function\n",
    "# assuming f_NL = 100.0\n",
    "delta_values_PNG, PDF_values_PNG = PDF_from_inv_Laplace_transform(z, 15.0, 100.0, 1.0, 0)"
   ]
  },
  {
   "cell_type": "code",
   "execution_count": 9,
   "metadata": {},
   "outputs": [],
   "source": [
    "# PDF from saddle point approximation of inverse Laplace transform\n",
    "# assuming f_NL = 0.0\n",
    "delta_values_saddle, PDF_values_saddle_point_approx = PDF_from_saddlepoint(z, 15.0, delta_values[0], delta_values[N_delta-1], 0.0, 1.0, 0)"
   ]
  },
  {
   "cell_type": "code",
   "execution_count": 10,
   "metadata": {},
   "outputs": [
    {
     "data": {
      "image/png": "[encoded data removed]",
      "text/plain": [
       "<matplotlib.figure.Figure at 0x116dcc0d0>"
      ]
     },
     "metadata": {
      "needs_background": "light"
     },
     "output_type": "display_data"
    }
   ],
   "source": [
    "plt.plot(delta_values, PDF_values, linewidth=3, linestyle='solid', label='inverse Laplace')\n",
    "plt.plot(delta_values_saddle, PDF_values_saddle_point_approx, linewidth=3, linestyle='dashed', label='saddle point approx')\n",
    "plt.plot(delta_values_PNG, PDF_values_PNG, linewidth=3, linestyle='dotted', label=r'$f_{\\mathrm{NL}} = 100$')\n",
    "\n",
    "\n",
    "plt.legend(fontsize=13, loc='upper right')\n",
    "plt.xticks(fontsize=14)\n",
    "plt.yticks(fontsize=14)\n",
    "\n",
    "plt.xlabel(r'$\\delta$', size = 20)\n",
    "plt.ylabel(r'$\\mathrm{PDF}(\\delta)$', size = 20)\n",
    "plt.subplots_adjust(left  = 0.18, right = 0.97, bottom=0.17, top=0.92)"
   ]
  },
  {
   "cell_type": "code",
   "execution_count": 11,
   "metadata": {},
   "outputs": [
    {
     "data": {
      "image/png": "[encoded data removed]",
      "text/plain": [
       "<matplotlib.figure.Figure at 0x1165e6610>"
      ]
     },
     "metadata": {
      "needs_background": "light"
     },
     "output_type": "display_data"
    }
   ],
   "source": [
    "plt.plot(np.interp(delta_values, delta_values_PNG, PDF_values_PNG)-PDF_values)\n",
    "plt.xticks(fontsize=14)\n",
    "plt.yticks(fontsize=14)\n",
    "\n",
    "plt.xlabel(r'$\\delta$', size = 20)\n",
    "plt.ylabel(r'$\\Delta\\mathrm{PDF}(\\delta)$', size = 20)\n",
    "plt.subplots_adjust(left  = 0.18, right = 0.97, bottom=0.17, top=0.92)"
   ]
  },
  {
   "cell_type": "markdown",
   "metadata": {},
   "source": [
    "# Section 3: computing the cumulant generating function and individual connected moments\n",
    "\n",
    "## See sections 2.1 and 4.6 of https://arxiv.org/abs/1912.06621 for details"
   ]
  },
  {
   "cell_type": "code",
   "execution_count": 12,
   "metadata": {},
   "outputs": [],
   "source": [
    "\n",
    "# This is code for extracting individual moments from the CGF (see section 4.6 of https://arxiv.org/abs/1912.06621):\n",
    "\n",
    "def factoria(n):\n",
    "    fact = np.ones(n+1)\n",
    "    for i in range(1, n+1):\n",
    "        fact[i] = fact[i-1]*float(i)\n",
    "    return fact\n",
    "\n",
    "def Bell_polynomial(n, k, x, fact):\n",
    "    n = int(n+0.1)\n",
    "    k = int(k+0.1)\n",
    "    \n",
    "    if n == 0 and k == 0:\n",
    "        return 1.0\n",
    "    if n == 0 and k != 0:\n",
    "        return 0.0\n",
    "    if n != 0 and k == 0:\n",
    "        return 0.0\n",
    "    \n",
    "    sum = 0.0\n",
    "    \n",
    "    for i in range(1, n-k+2):\n",
    "        binomial = fact[n-1]/fact[n-i]/fact[i-1]\n",
    "        sum += x[i]*binomial*Bell_polynomial(n-i, k-1, x, fact)\n",
    "    \n",
    "    return sum\n",
    "\n",
    "\n",
    "def return_Bell_matrix(lambda_coeffs_wrt_tau):\n",
    "    n = len(lambda_coeffs_wrt_tau)\n",
    "    fact = factoria(n)\n",
    "    x = np.zeros(n);\n",
    "    Bell_matrix = np.zeros((n,n))\n",
    "    inverse_Bell_matrix = np.zeros((n,n))\n",
    "    \n",
    "    for i in range(0, n):\n",
    "        x[i] = lambda_coeffs_wrt_tau[i]*fact[i];\n",
    "        \n",
    "    for i in range(0, n):\n",
    "        for j in range(0, i+1):\n",
    "            Bell_matrix[i,j] = Bell_polynomial(i, j, x, fact)\n",
    "            \n",
    "    inverse_Bell_matrix = np.linalg.inv(np.matrix(Bell_matrix))\n",
    "    return inverse_Bell_matrix, Bell_matrix\n",
    "\n",
    "\n",
    "def find_moments(lambda_values, phi_values, phi_prime_values, tau_values, R_L_values, R_min, R_max, degree):\n",
    "    n = len(lambda_values)\n",
    "    indices = np.where(lambda_values[1:] > lambda_values[:n-1])[0]\n",
    "    \n",
    "    lambda_max = lambda_values[0]\n",
    "    check = 1\n",
    "    n_cut = 0\n",
    "    for i in range(1,n):\n",
    "        if lambda_values[i] > lambda_max and check == 1:\n",
    "            lambda_max = lambda_values[i]\n",
    "            n_cut = i\n",
    "        else:\n",
    "            check = 0\n",
    "    \n",
    "    lambda_cut    = lambda_values[:n_cut]\n",
    "    phi_cut       = phi_values[:n_cut]\n",
    "    phi_prime_cut = phi_prime_values[:n_cut]\n",
    "    tau_cut       = tau_values[:n_cut]\n",
    "    R_cut         = R_L_values[:n_cut]\n",
    "    \n",
    "    tau_max = np.max(tau_cut)*0.9\n",
    "    tau_min = np.min(tau_cut)*0.9\n",
    "    #tau_min = -tau_max\n",
    "    \n",
    "    if R_cut[n_cut-1] > R_max:\n",
    "        tau_max = np.min([tau_max, np.interp(R_max, R_cut, tau_cut)])\n",
    "    if R_cut[0] < R_min:\n",
    "        tau_min = np.max[tau_min, np.interp(R_min, R_cut, tau_cut)]\n",
    "    \n",
    "    #tau_max = np.min([tau_max, -tau_min])\n",
    "    #tau_min = -tau_max\n",
    "    \n",
    "    N_tau = 8*degree+1\n",
    "    tau_support_points = np.zeros(N_tau)\n",
    "    dtau = -tau_min/float(N_tau/2)\n",
    "    tau_support_points[:N_tau/2] = np.arange(tau_min, 0.0-0.5*dtau, dtau)\n",
    "    tau_support_points[N_tau/2] = 0.0\n",
    "    dtau = tau_max/float(N_tau/2)\n",
    "    tau_support_points[N_tau/2+1:] = np.arange(0.0, tau_max-0.5*dtau, tau_max/float(N_tau/2))+tau_max/float(N_tau/2)\n",
    "    phi_prime_points = np.interp(tau_support_points, tau_cut, phi_prime_cut)\n",
    "    lambda_support_points = np.interp(tau_support_points, tau_cut, lambda_cut)\n",
    "    \n",
    "    delta_NL_coeffs_wrt_tau =  np.polyfit(tau_support_points, phi_prime_points, degree)\n",
    "    delta_NL_coeffs_wrt_tau = np.flip(delta_NL_coeffs_wrt_tau)\n",
    "    lambda_coeffs_wrt_tau =  np.polyfit(tau_support_points, lambda_support_points, degree)\n",
    "    lambda_coeffs_wrt_tau = np.flip(lambda_coeffs_wrt_tau)\n",
    "    \n",
    "    inverse_Bell_matrix, Bell_matrix = return_Bell_matrix(lambda_coeffs_wrt_tau)\n",
    "    \n",
    "    delta_NL_coeffs_wrt_lambda = np.zeros(degree+1)\n",
    "    fact = factoria(degree+1)\n",
    "    \n",
    "    for i in range(0, degree+1):\n",
    "        for j in range(0, i+1):\n",
    "            delta_NL_coeffs_wrt_lambda[i] += inverse_Bell_matrix[i,j]*delta_NL_coeffs_wrt_tau[j]*fact[j]\n",
    "        #delta_NL_coeffs_wrt_lambda[i] /= fact[i]\n",
    "    \n",
    "    for i in range(degree, 0, -1):\n",
    "        delta_NL_coeffs_wrt_lambda[i] = delta_NL_coeffs_wrt_lambda[i-1]#/float(i);\n",
    "    delta_NL_coeffs_wrt_lambda[i] = 0.0\n",
    "    \n",
    "    return delta_NL_coeffs_wrt_lambda"
   ]
  },
  {
   "cell_type": "code",
   "execution_count": 13,
   "metadata": {},
   "outputs": [],
   "source": [
    "var_NL_rescale = 1.0\n",
    "f_NL = 3.0\n",
    "R = 15.0\n",
    "\n",
    "d_L_values, d_NL_values, lambda_values, phi_values, lambda_G_values, phi_G_values, var_lin_values, skew_lin_values, R_L_values = CGF(z, R, f_NL, var_NL_rescale, 0)\n",
    "tau_values = d_L_values/var_lin_values"
   ]
  },
  {
   "cell_type": "code",
   "execution_count": null,
   "metadata": {},
   "outputs": [],
   "source": [
    "\n",
    "n_max = 8\n",
    "plt.figure(figsize=(6,6))\n",
    "\n",
    "moments_G = find_moments(lambda_G_values, phi_G_values, d_NL_values, tau_values, R_L_values, 5.0, 45.0, 15)\n",
    "moments_PNG = find_moments(lambda_values, phi_values, d_NL_values, tau_values, R_L_values, 5.0, 45.0, 15)\n",
    "plt.plot(range(2, n_max), moments_PNG[2:n_max]/moments_G[2:n_max], label='degree = 15', linewidth=4, linestyle='-')\n",
    "\n",
    "\n",
    "moments_G = find_moments(lambda_G_values, phi_G_values, d_NL_values, tau_values, R_L_values, 5.0, 45.0, 16)\n",
    "moments_PNG = find_moments(lambda_values, phi_values, d_NL_values, tau_values, R_L_values, 5.0, 45.0, 16)\n",
    "plt.plot(range(2, n_max), moments_PNG[2:n_max]/moments_G[2:n_max], label='degree = 16', linewidth=4, linestyle='--')\n",
    "\n",
    "\n",
    "moments_G = find_moments(lambda_G_values, phi_G_values, d_NL_values, tau_values, R_L_values, 5.0, 45.0, 17)\n",
    "moments_PNG = find_moments(lambda_values, phi_values, d_NL_values, tau_values, R_L_values, 5.0, 45.0, 17)\n",
    "plt.plot(range(2, n_max), moments_PNG[2:n_max]/moments_G[2:n_max], label='degree = 17', linewidth=4, linestyle='-.')\n",
    "\n",
    "\n",
    "moments_G = find_moments(lambda_G_values, phi_G_values, d_NL_values, tau_values, R_L_values, 5.0, 45.0, 18)\n",
    "moments_PNG = find_moments(lambda_values, phi_values, d_NL_values, tau_values, R_L_values, 5.0, 45.0, 18)\n",
    "plt.plot(range(2, n_max), moments_PNG[2:n_max]/moments_G[2:n_max], label='degree = 18', linewidth=4, linestyle='dotted')\n",
    "\n",
    "\n",
    "plt.xticks(fontsize=15)\n",
    "plt.yticks(fontsize=15)\n",
    "\n",
    "plt.plot(range(2, n_max+1), np.ones(n_max-1), linestyle='dashed', color='grey')\n",
    "plt.xlim(1.8, n_max-0.8)\n",
    "plt.ylim(0.998, 1.0 + 1.1*(moments_PNG[n_max-1]/moments_G[n_max-1]-1.0))\n",
    "plt.legend(fontsize=15, handlelength=2.35)\n",
    "plt.title('$z=1$, $R=15$ Mpc$/h$, '+r'$f_{\\mathrm{NL}}^{\\mathrm{local}} = 3$'+'\\nfitting polynomials of different degree to CGF', size = 17)\n",
    "plt.xlabel(r'$n$', size = 22)\n",
    "plt.ylabel(r'$\\langle \\delta^n \\rangle_{c,\\mathrm{PNG}}/\\langle \\delta^n \\rangle_{c,\\mathrm{Gauss}}$', size = 22)\n",
    "plt.subplots_adjust(left=0.19, bottom=0.12, right=0.95, top=0.87)"
   ]
  },
  {
   "cell_type": "markdown",
   "metadata": {},
   "source": [
    "# Section 4: creating 3D galaxy samples and computing their counts-in-cells PDF\n",
    "\n",
    "## This part uses the bias and shot-noise model described in section IV.C.2 of https://arxiv.org/abs/1710.05162 ."
   ]
  },
  {
   "cell_type": "code",
   "execution_count": null,
   "metadata": {},
   "outputs": [],
   "source": [
    "\n",
    "add_3D_galaxy_sample = lib.add_3D_galaxy_sample\n",
    "# add_3D_galaxy_sample          (int index_of_universe,        double z, double density_in_Mpc_over_h_cubed,        double b1,        double b2,       double a0,       double a1)\n",
    "add_3D_galaxy_sample.argtypes = [         ctypes.c_int, ctypes.c_double,                    ctypes.c_double,  ctypes.c_double,  ctypes.c_double, ctypes.c_double, ctypes.c_double]\n",
    "add_3D_galaxy_sample.restype = None\n",
    "\n",
    "\n",
    "return_N_max_3D = lib.return_N_max_3D\n",
    "# int return_N_max_3D      (int index_of_galaxy_sample, double R_in_Mpc_over_h, double var_NL_rescale)\n",
    "return_N_max_3D.argtypes = [              ctypes.c_int,        ctypes.c_double,       ctypes.c_double]\n",
    "return_N_max_3D.restype = ctypes.c_int\n",
    "\n",
    "\n",
    "update_3D_bias_model_from_br_parametrisation = lib.update_3D_bias_model_from_br_parametrisation\n",
    "# update_3D_bias_model_from_br_parametrisation          (int index_of_galaxy_sample, double b_tilde, double r, double R_in_Mpc_over_h, double f_NL, double var_NL_rescale)\n",
    "update_3D_bias_model_from_br_parametrisation.argtypes = [              ctypes.c_int, ctypes.c_double,                    ctypes.c_double,  ctypes.c_double,  ctypes.c_double, ctypes.c_double]\n",
    "update_3D_bias_model_from_br_parametrisation.restype = None\n",
    "\n",
    "change_parameters_of_3D_galaxy_sample = lib.change_parameters_of_3D_galaxy_sample\n",
    "# change_parameters_of_3D_galaxy_sample          (int index_of_galaxy_sample,        double z, double density_in_Mpc_over_h_cubed,        double b1,        double b2,       double a0,       double a1)\n",
    "change_parameters_of_3D_galaxy_sample.argtypes = [              ctypes.c_int, ctypes.c_double,                    ctypes.c_double,  ctypes.c_double,  ctypes.c_double, ctypes.c_double, ctypes.c_double]\n",
    "change_parameters_of_3D_galaxy_sample.restype = None\n",
    "\n",
    "change_b2_to_minimise_negative_densities_3D = lib.change_b2_to_minimise_negative_densities_3D\n",
    "# change_b2_to_minimise_negative_densities_3D          (int index_of_galaxy_sample, double R_in_Mpc_over_h, double var_NL_rescale)\n",
    "change_b2_to_minimise_negative_densities_3D.argtypes = [              ctypes.c_int,        ctypes.c_double,       ctypes.c_double]\n",
    "change_b2_to_minimise_negative_densities_3D.restype = ctypes.c_double\n",
    "\n",
    "clear_galaxy_samples = lib.clear_galaxy_samples\n",
    "# clear_galaxy_samples\n",
    "clear_galaxy_samples.argtypes = []\n",
    "clear_galaxy_samples.restype = None\n"
   ]
  },
  {
   "cell_type": "code",
   "execution_count": null,
   "metadata": {},
   "outputs": [],
   "source": [
    "# Creating first galaxy sample\n",
    "density_sample_1 = 0.002\n",
    "b1_sample_1 = 1.6\n",
    "b2_sample_1 = 0.0\n",
    "a0 = 1.26\n",
    "a1 = 0.29\n",
    "add_3D_galaxy_sample(0, z, density_sample_1, b1_sample_1, b2_sample_1, a0, a1)\n",
    "# Changing parameters first galaxy sample\n",
    "density_sample_1 = 0.001\n",
    "change_parameters_of_3D_galaxy_sample(0, z, density_sample_1, b1_sample_1, b2_sample_1, a0, a1)"
   ]
  },
  {
   "cell_type": "code",
   "execution_count": null,
   "metadata": {},
   "outputs": [],
   "source": [
    "# Creating second galaxy sample\n",
    "density_sample_2 = 0.002\n",
    "b1_sample_2 = 1.3\n",
    "b2_sample_2 = 0.3\n",
    "a0 = 1.4\n",
    "a1 = 0.5\n",
    "add_3D_galaxy_sample(0, z, density_sample_2, b1_sample_2, b2_sample_2, a0, a1)"
   ]
  },
  {
   "cell_type": "code",
   "execution_count": null,
   "metadata": {},
   "outputs": [],
   "source": [
    "# Creating 3rd & 4th galaxy sample\n",
    "density_sample_3 = 0.0005\n",
    "b1_sample_3 = 2.1\n",
    "b2_sample_3 = 0.0\n",
    "a0 = 1.26\n",
    "a1 = 0.29\n",
    "add_3D_galaxy_sample(0, z, density_sample_3, b1_sample_3, b2_sample_3, a0, a1)\n",
    "add_3D_galaxy_sample(0, z, density_sample_3, b1_sample_3, b2_sample_3, a0, a1)\n",
    "# Changing b2 in 4th sample to minimise occurence of delta_g < -1\n",
    "R = 20.0\n",
    "b2_sample_4 = change_b2_to_minimise_negative_densities_3D(3, R, 1.0)"
   ]
  },
  {
   "cell_type": "code",
   "execution_count": null,
   "metadata": {},
   "outputs": [],
   "source": [
    "\n",
    "# Up to what N are the CiC histograms going to be computed? (needed for allocation of arrays in python-C++ interface)\n",
    "R = 20.0\n",
    "N_max = np.max([return_N_max_3D(0, R, 1.0), return_N_max_3D(1, R, 1.0), return_N_max_3D(2, R, 1.0), return_N_max_3D(3, R, 1.0)])\n",
    "print N_max\n",
    "\n",
    "return_CiC_PDF_3D = lib.return_CiC_PDF_3D\n",
    "#           return_CiC_PDF_3D(                       double* P_of_N, double R_in_Mpc_over_h,     double f_NL, double var_NL_rescale, int index_of_galaxy_sample)\n",
    "return_CiC_PDF_3D.argtypes = [ctypes.POINTER(ctypes.c_double*N_max),        ctypes.c_double, ctypes.c_double,       ctypes.c_double,               ctypes.c_int]\n",
    "return_CiC_PDF_3D.restype = None\n",
    "\n",
    "## This function returns the count-in-cells PDF of a 3D galaxy field\n",
    "# - at redshift z\n",
    "# - top-hat smoothing radius R [Mpc/h]\n",
    "# - with primordial bispectrum amplitute f_NL\n",
    "# - non-linear variance being var_NL_rescale*halofit (Takahashi et al. 2012, Smith et al. 2003)\n",
    "# - for galaxy sample index_of_galaxy_sample (= 0 if you have only created one galaxy sample)\n",
    "def CiC(R, f_NL, var_NL_rescale, index_of_galaxy_sample):\n",
    "    P_of_N_values        = (ctypes.c_double*N_max)()\n",
    "    return_CiC_PDF_3D(ctypes.byref(P_of_N_values), R, f_NL, var_NL_rescale, index_of_galaxy_sample)\n",
    "    return np.array(P_of_N_values)\n",
    "\n"
   ]
  },
  {
   "cell_type": "code",
   "execution_count": null,
   "metadata": {},
   "outputs": [],
   "source": [
    "# computing CiC PDF for each sample\n",
    "P_of_N_values_sample_1 = CiC(R, 0.0, 1.0, 0)\n",
    "P_of_N_values_sample_2 = CiC(R, 0.0, 1.0, 1)\n",
    "P_of_N_values_sample_3 = CiC(R, 0.0, 1.0, 2)\n",
    "P_of_N_values_sample_4 = CiC(R, 0.0, 1.0, 3)"
   ]
  },
  {
   "cell_type": "code",
   "execution_count": null,
   "metadata": {},
   "outputs": [],
   "source": [
    "# plotting CiC PDF for each sample\n",
    "plt.figure(figsize=(10,6))\n",
    "plt.plot(range(0,N_max), P_of_N_values_sample_1, label=\"$n=$\"+str(density_sample_1)+\"/$($Mpc$/h)^3$, $b_1=$\"+str(b1_sample_1)+\", $b_2=$\"+str(b2_sample_1), linestyle=\"solid\", linewidth=3)\n",
    "plt.plot(range(0,N_max), P_of_N_values_sample_2, label=\"$n=$\"+str(density_sample_2)+\"/$($Mpc$/h)^3$, $b_1=$\"+str(b1_sample_2)+\", $b_2=$\"+str(b2_sample_2), linestyle=\"dashed\", linewidth=3)\n",
    "plt.plot(range(0,N_max), P_of_N_values_sample_3, label=\"$n=$\"+str(density_sample_3)+\"/$($Mpc$/h)^3$, $b_1=$\"+str(b1_sample_3)+\", $b_2=$\"+str(b2_sample_3), linestyle=\"dotted\", linewidth=3)\n",
    "plt.plot(range(0,N_max), P_of_N_values_sample_4, label=\"$n=$\"+str(density_sample_3)+\"/$($Mpc$/h)^3$, $b_1=$\"+str(b1_sample_3)+\", $b_2=$\"+str(b2_sample_4), linestyle=\"-.\", linewidth=3)\n",
    "plt.xlim(-10,200)\n",
    "plt.xticks(fontsize=15)\n",
    "plt.yticks(fontsize=15)\n",
    "plt.xlabel(r'$N$', size = 22)\n",
    "plt.ylabel(r'$P(N)$', size = 22)\n",
    "plt.legend(fontsize=15, handlelength=2.35)\n",
    "plt.title('Galaxy samples at $z=$'+str(z)+', $R=$'+str(R)+' Mpc$/h$', size = 17)\n",
    "plt.subplots_adjust(left=0.19, bottom=0.12, right=0.95, top=0.87)\n",
    "\n",
    "# check normalisation of the CiC PDFs\n",
    "print np.sum(P_of_N_values_sample_1)\n",
    "print np.sum(P_of_N_values_sample_2)\n",
    "print np.sum(P_of_N_values_sample_3)\n",
    "print np.sum(P_of_N_values_sample_4)"
   ]
  },
  {
   "cell_type": "code",
   "execution_count": null,
   "metadata": {},
   "outputs": [],
   "source": [
    "# check normalisation of the CiC PDFs\n",
    "print np.sum(range(0,N_max)*P_of_N_values_sample_1)\n",
    "print np.sum(range(0,N_max)*P_of_N_values_sample_2)\n",
    "print np.sum(range(0,N_max)*P_of_N_values_sample_3)\n",
    "print np.sum(range(0,N_max)*P_of_N_values_sample_4)"
   ]
  },
  {
   "cell_type": "code",
   "execution_count": null,
   "metadata": {},
   "outputs": [],
   "source": [
    "print np.sum(range(0,N_max)*P_of_N_values_sample_1)/(4.0*np.pi/3.0*20.0**3)\n",
    "print np.sum(range(0,N_max)*P_of_N_values_sample_2)/(4.0*np.pi/3.0*20.0**3)\n",
    "print np.sum(range(0,N_max)*P_of_N_values_sample_3)/(4.0*np.pi/3.0*20.0**3)\n",
    "print np.sum(range(0,N_max)*P_of_N_values_sample_4)/(4.0*np.pi/3.0*20.0**3)"
   ]
  },
  {
   "cell_type": "markdown",
   "metadata": {},
   "source": [
    "# Section 5: creating line-of-sight projected galaxy samples and computing their counts-in-cells PDF\n",
    "\n",
    "## This part also uses the bias and shot-noise model described in section IV.C.2 of https://arxiv.org/abs/1710.05162 ."
   ]
  },
  {
   "cell_type": "code",
   "execution_count": null,
   "metadata": {},
   "outputs": [],
   "source": [
    "\n",
    "\n",
    "\n",
    "add_projected_galaxy_sample = lib.add_projected_galaxy_sample\n",
    "# add_projected_galaxy_sample          (int index_of_universe, const char *n_of_z_file, double density_in_Mpc_over_h_cubed,        double b1,        double b2,       double a0,       double a1)\n",
    "add_projected_galaxy_sample.argtypes = [         ctypes.c_int,         ctypes.c_char_p,                    ctypes.c_double,  ctypes.c_double,  ctypes.c_double, ctypes.c_double, ctypes.c_double]\n",
    "add_projected_galaxy_sample.restype = None\n",
    "\n",
    "\n",
    "return_N_max_projected = lib.return_N_max_projected\n",
    "# int return_N_max_projected      (int index_of_galaxy_sample, double R_in_Mpc_over_h, double var_NL_rescale)\n",
    "return_N_max_projected.argtypes = [              ctypes.c_int,        ctypes.c_double,       ctypes.c_double]\n",
    "return_N_max_projected.restype = ctypes.c_int\n",
    "\n",
    "\n",
    "change_parameters_of_projected_galaxy_sample = lib.change_parameters_of_projected_galaxy_sample\n",
    "# change_parameters_of_projected_galaxy_sample          (int index_of_galaxy_sample,        double z, double density_in_Mpc_over_h_cubed,        double b1,        double b2,       double a0,       double a1)\n",
    "change_parameters_of_projected_galaxy_sample.argtypes = [              ctypes.c_int, ctypes.c_double,                    ctypes.c_double,  ctypes.c_double,  ctypes.c_double, ctypes.c_double, ctypes.c_double]\n",
    "change_parameters_of_projected_galaxy_sample.restype = None\n",
    "\n",
    "change_b2_to_minimise_negative_densities_projected = lib.change_b2_to_minimise_negative_densities_projected\n",
    "# change_b2_to_minimise_negative_densities_projected          (int index_of_galaxy_sample, double R_in_Mpc_over_h, double var_NL_rescale)\n",
    "change_b2_to_minimise_negative_densities_projected.argtypes = [              ctypes.c_int,        ctypes.c_double,       ctypes.c_double]\n",
    "change_b2_to_minimise_negative_densities_projected.restype = ctypes.c_double\n"
   ]
  },
  {
   "cell_type": "code",
   "execution_count": null,
   "metadata": {},
   "outputs": [],
   "source": [
    "# Creating first galaxy sample\n",
    "density_sample_1 = 46.200759199/(np.pi*20.0**2)\n",
    "b1_sample_1 = 1.6\n",
    "b2_sample_1 = 0.0\n",
    "a0 = 1.26\n",
    "a1 = 0.28\n",
    "n_of_z_file_str = 'Data/redshift_distributions/nofz_redmagic_0.2_0.45_true.dat'\n",
    "n_of_z_file = ctypes.c_char_p(n_of_z_file_str.encode('utf-8'))\n",
    "add_projected_galaxy_sample(0, n_of_z_file, density_sample_1, b1_sample_1, b2_sample_1, a0, a1)"
   ]
  },
  {
   "cell_type": "code",
   "execution_count": null,
   "metadata": {},
   "outputs": [],
   "source": [
    "\n",
    "theta = 20.0\n",
    "N_max = return_N_max_projected(0, theta, 1.0)\n",
    "print N_max\n",
    "\n",
    "return_CiC_PDF_projected = lib.return_CiC_PDF_projected\n",
    "#           return_CiC_PDF_projected(                       double* P_of_N, double R_in_Mpc_over_h,     double f_NL, double var_NL_rescale, int index_of_galaxy_sample)\n",
    "return_CiC_PDF_projected.argtypes = [ctypes.POINTER(ctypes.c_double*N_max),        ctypes.c_double, ctypes.c_double,       ctypes.c_double,               ctypes.c_int]\n",
    "return_CiC_PDF_projected.restype = None\n",
    "\n",
    "## This function returns the count-in-cells PDF of a 3D galaxy field\n",
    "# - at redshift z\n",
    "# - angular top-hat smoothing radius theta\n",
    "# - with primordial bispectrum amplitute f_NL\n",
    "# - non-linear variance being var_NL_rescale*halofit (Takahashi et al. 2012, Smith et al. 2003)\n",
    "# - for galaxy sample index_of_galaxy_sample (= 0 if you have only created one galaxy sample)\n",
    "def CiC_projected(theta, f_NL, var_NL_rescale, index_of_galaxy_sample):\n",
    "    P_of_N_values        = (ctypes.c_double*N_max)()\n",
    "    x = np.array(P_of_N_values)\n",
    "    print x.shape\n",
    "    return_CiC_PDF_projected(ctypes.byref(P_of_N_values), theta, f_NL, var_NL_rescale, index_of_galaxy_sample)\n",
    "    return np.array(P_of_N_values)"
   ]
  },
  {
   "cell_type": "code",
   "execution_count": null,
   "metadata": {},
   "outputs": [],
   "source": [
    "P_of_N_values_projected = CiC_projected(theta, 0.0, 1.0, 0)"
   ]
  },
  {
   "cell_type": "code",
   "execution_count": null,
   "metadata": {},
   "outputs": [],
   "source": [
    "# plotting CiC PDF for each sample\n",
    "plt.figure(figsize=(10,6))\n",
    "plt.plot(range(0,N_max), P_of_N_values_projected, label=\"$n=$\"+str(int(1000.0*density_sample_1)/1000.0)+\"/arcmin${}^2$, $b_1=$\"+str(b1_sample_1)+\", $b_2=$\"+str(b2_sample_1), linestyle=\"solid\", linewidth=3)\n",
    "plt.xlim(-5,150)\n",
    "plt.xticks(fontsize=15)\n",
    "plt.yticks(fontsize=15)\n",
    "plt.xlabel(r'$N$', size = 22)\n",
    "plt.ylabel(r'$P(N)$', size = 22)\n",
    "plt.legend(fontsize=15, handlelength=2.35)\n",
    "plt.title('Galaxy samples at $z=$'+str(z)+', $R=$'+str(R)+' Mpc$/h$', size = 17)\n",
    "plt.subplots_adjust(left=0.19, bottom=0.12, right=0.95, top=0.87)\n",
    "\n",
    "# check normalisation of the CiC PDFs\n",
    "print np.sum(P_of_N_values_projected)\n",
    "print np.sum(P_of_N_values_projected*range(0,len(P_of_N_values_projected)))"
   ]
  },
  {
   "cell_type": "code",
   "execution_count": null,
   "metadata": {},
   "outputs": [],
   "source": []
  }
 ],
 "metadata": {
  "anaconda-cloud": {
   "environment": null,
   "summary": "trough lenser python notebook",
   "url": "https://anaconda.org/danielgruen/returning_data_vector_to_notebook-py"
  },
  "kernelspec": {
   "display_name": "Python 2",
   "language": "python",
   "name": "python2"
  },
  "language_info": {
   "codemirror_mode": {
    "name": "ipython",
    "version": 2
   },
   "file_extension": ".py",
   "mimetype": "text/x-python",
   "name": "python",
   "nbconvert_exporter": "python",
   "pygments_lexer": "ipython2",
   "version": "2.7.16"
  }
 },
 "nbformat": 4,
 "nbformat_minor": 1
}
