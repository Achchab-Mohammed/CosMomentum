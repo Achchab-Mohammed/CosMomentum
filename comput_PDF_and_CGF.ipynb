{
 "cells": [
  {
   "cell_type": "code",
   "execution_count": 1,
   "metadata": {},
   "outputs": [],
   "source": [
    "import ctypes\n",
    "import sys\n",
    "import numpy as np\n",
    "import os\n",
    "import matplotlib.pyplot as plt"
   ]
  },
  {
   "cell_type": "code",
   "execution_count": 2,
   "metadata": {},
   "outputs": [],
   "source": [
    "os.system(\"cd cpp_code; make DSS\")\n",
    "lib=ctypes.CDLL(\"./cpp_code/DSS.so\")"
   ]
  },
  {
   "cell_type": "code",
   "execution_count": 3,
   "metadata": {},
   "outputs": [
    {
     "data": {
      "text/plain": [
       "775"
      ]
     },
     "execution_count": 3,
     "metadata": {},
     "output_type": "execute_result"
    }
   ],
   "source": [
    "#a_initial = 0.00025\n",
    "a_initial = 0.000025\n",
    "a_final = 1.01\n",
    "\n",
    "initialise_new_Universe_with_Matter_content = lib.initialise_new_Universe_with_Matter_content\n",
    "# initialise_new_Universe_with_Matter_content          (double a_initial,  double a_final,  double Omega_m,  double Omega_b,  double Omega_r,  double Omega_L,  double sigma_8,      double n_s,    double h_100,       double w0,       double w1)\n",
    "initialise_new_Universe_with_Matter_content.argtypes = [ ctypes.c_double, ctypes.c_double, ctypes.c_double, ctypes.c_double, ctypes.c_double, ctypes.c_double, ctypes.c_double, ctypes.c_double, ctypes.c_double, ctypes.c_double, ctypes.c_double]\n",
    "\n",
    "# Cosmology of Quijote sims\n",
    "Omfid = 0.3175\n",
    "Obfid = 0.049\n",
    "hfid = 0.6711\n",
    "nsfid = 0.9624\n",
    "sig8fid = 0.834\n",
    "\n",
    "initialise_new_Universe_with_Matter_content(a_initial, a_final, Omfid, Obfid, 0.0, 1.0-Omfid, sig8fid, nsfid, hfid, -1.0, 0.0)\n"
   ]
  },
  {
   "cell_type": "code",
   "execution_count": 5,
   "metadata": {},
   "outputs": [],
   "source": [
    "\n",
    "set_primordial_skewness_from_eps3_powerlaw_approximation = lib.set_primordial_skewness_from_eps3_powerlaw_approximation\n",
    "# set_primordial_skewness_from_eps3_powerlaw_approximation          (int index_of_universe, int PNG_modus, double R_0_in_Mpc_over_h)\n",
    "set_primordial_skewness_from_eps3_powerlaw_approximation.argtypes = [           ctypes.c_int,  ctypes.c_int,          ctypes.c_double]\n"
   ]
  },
  {
   "cell_type": "code",
   "execution_count": 6,
   "metadata": {},
   "outputs": [
    {
     "data": {
      "text/plain": [
       "2016161808"
      ]
     },
     "execution_count": 6,
     "metadata": {},
     "output_type": "execute_result"
    }
   ],
   "source": [
    "set_primordial_skewness_from_eps3_powerlaw_approximation(0, 1, 15.0)"
   ]
  },
  {
   "cell_type": "code",
   "execution_count": 14,
   "metadata": {},
   "outputs": [],
   "source": [
    "\n",
    "# N_delta has to be hardcoded, because is it needed for defining the python-c++ interface\n",
    "N_delta = 1000\n",
    "delta_min = -0.7\n",
    "delta_max = 1.0\n",
    "\n",
    "\n",
    "return_lambda = lib.return_lambda\n",
    "return_lambda.argtypes = [ctypes.c_int]\n",
    "N_lambda = return_lambda(0)\n",
    "\n",
    "return_CGF = lib.return_CGF\n",
    "#           return_CGF(                         double* delta_L,                         double* delta_NL,                           double* lambda,                              double* phi,                     double* lambda_Gauss,                        double* phi_Gauss,                        double* variances,                       double* skewnesses,                              double* R_L,        double z, double R_in_comoving_Mpc,     double f_NL, double var_NL_rescale, int index_of_universe)\n",
    "return_CGF.argtypes = [ctypes.POINTER(ctypes.c_double*N_lambda), ctypes.POINTER(ctypes.c_double*N_lambda), ctypes.POINTER(ctypes.c_double*N_lambda), ctypes.POINTER(ctypes.c_double*N_lambda), ctypes.POINTER(ctypes.c_double*N_lambda), ctypes.POINTER(ctypes.c_double*N_lambda), ctypes.POINTER(ctypes.c_double*N_lambda), ctypes.POINTER(ctypes.c_double*N_lambda), ctypes.POINTER(ctypes.c_double*N_lambda), ctypes.c_double,          ctypes.c_double, ctypes.c_double,       ctypes.c_double,          ctypes.c_int]\n",
    "\n",
    "return_PDF = lib.return_PDF\n",
    "# return_PDF          (                   double* delta_values,                                      double* PDF,  int n_delta, double delta_min, double delta_max,        double z, double R_in_comoving_Mpc,     double f_NL, double var_NL_rescale, int index_of_universe)\n",
    "return_PDF.argtypes = [ctypes.POINTER(ctypes.c_double*N_delta),          ctypes.POINTER(ctypes.c_double*N_delta), ctypes.c_int,  ctypes.c_double,  ctypes.c_double, ctypes.c_double,          ctypes.c_double, ctypes.c_double,       ctypes.c_double,          ctypes.c_int]\n",
    "\n",
    "## This function returns the cumulant generating function (CGF) of the 3D matter density field\n",
    "# - at redshift z\n",
    "# - top-hat smoothing radius R [Mpc/h]\n",
    "# - with primordial bispectrum amplitute f_NL\n",
    "# - non-linear variance being var_NL_rescale*halofit (Takahashi et al. 2012, Smith et al. 2003)\n",
    "# - for universe index_of_universe (= 0 if you have only created one universe)\n",
    "def CGF(z, R, f_NL, var_NL_rescale, index_of_universe):\n",
    "    delta_L_values        = (ctypes.c_double*N_lambda)()\n",
    "    delta_NL_values       = (ctypes.c_double*N_lambda)()\n",
    "    lambda_values         = (ctypes.c_double*N_lambda)()\n",
    "    phi_values            = (ctypes.c_double*N_lambda)()\n",
    "    lambda_values_Gauss   = (ctypes.c_double*N_lambda)()\n",
    "    phi_values_Gauss      = (ctypes.c_double*N_lambda)()\n",
    "    variances             = (ctypes.c_double*N_lambda)()\n",
    "    skewnesses            = (ctypes.c_double*N_lambda)()\n",
    "    R_L_values            = (ctypes.c_double*N_lambda)()\n",
    "    \n",
    "    return_CGF(ctypes.byref(delta_L_values), ctypes.byref(delta_NL_values), ctypes.byref(lambda_values), ctypes.byref(phi_values), ctypes.byref(lambda_values_Gauss), ctypes.byref(phi_values_Gauss), ctypes.byref(variances), ctypes.byref(skewnesses), ctypes.byref(R_L_values), z, R, f_NL, var_NL_rescale, index_of_universe)\n",
    "    return np.array(delta_L_values), np.array(delta_NL_values), np.array(lambda_values), np.array(phi_values), np.array(lambda_values_Gauss), np.array(phi_values_Gauss), np.array(variances), np.array(skewnesses), np.array(R_L_values)\n",
    "\n",
    "\n",
    "## This function returns the probability distribution function (PDF) of the 3D matter density field\n",
    "# - at redshift z\n",
    "# - top-hat smoothing radius R [Mpc/h]\n",
    "# - with primordial bispectrum amplitute f_NL\n",
    "# - non-linear variance being var_NL_rescale*halofit (Takahashi et al. 2012, Smith et al. 2003)\n",
    "# - for universe index_of_universe (= 0 if you have only created one universe\n",
    "def PDF_from_inv_Laplace_transform(z, R, f_NL, var_NL_rescale, index_of_universe):\n",
    "    delta_values     = (ctypes.c_double*N_delta)()\n",
    "    PDF_values       = (ctypes.c_double*N_delta)()\n",
    "    return_PDF(ctypes.byref(delta_values), ctypes.byref(PDF_values),N_delta, delta_min, delta_max , z, R, f_NL, var_NL_rescale, index_of_universe)\n",
    "    return np.array(delta_values), np.array(PDF_values)\n",
    "\n",
    "\n",
    "\n",
    "## This function returns the PDF of the 3D matter density field using a saddle point\n",
    "## approximation to solve the inverse Laplace transform that relates PDF and CGF.\n",
    "# - at redshift z\n",
    "# - top-hat smoothing radius R [Mpc/h]\n",
    "# - with primordial bispectrum amplitute f_NL\n",
    "# - non-linear variance being var_NL_rescale*halofit (Takahashi et al. 2012, Smith et al. 2003)\n",
    "# - for universe index_of_universe (= 0 if you have only created one universe\n",
    "def PDF_from_saddlepoint(z, R, f_NL, var_NL_rescale, index_of_universe):\n",
    "    d_L, d_NL, l, phi, l_G, phi_G, var, skew, R_L = CGF(z, R, f_NL, var_NL_rescale, index_of_universe)\n",
    "    Nl = len(l)\n",
    "    l_plus   = l[1:]\n",
    "    l_minus  = l[:Nl-1]\n",
    "    l_center = 0.5*(l_plus+l_minus)\n",
    "    d_NL_plus  = d_NL[1:]\n",
    "    d_NL_minus = d_NL[:Nl-1]\n",
    "    d_NL_center = 0.5*(d_NL_plus+d_NL_minus)\n",
    "    d_NL_prime = (d_NL_plus-d_NL_minus)/(l_plus-l_minus)\n",
    "    ddelta = (delta_max-delta_min)/float(N_delta-1)\n",
    "    delta_values     = np.arange(0, N_delta)*ddelta+delta_min\n",
    "    PDF_values       = np.zeros(N_delta)\n",
    "    phi_interp = np.interp(delta_values, d_NL, phi)\n",
    "    phi_prime_prime_interp = np.interp(delta_values, d_NL_center, d_NL_prime)\n",
    "    l_interp = np.interp(delta_values, d_NL, l)\n",
    "    indeces = np.where(phi_prime_prime_interp>0.0)[0]\n",
    "    PDF_values[indeces]       = np.exp(-l_interp[indeces]*delta_values[indeces]+phi_interp[indeces])/np.sqrt(2.0*np.pi*phi_prime_prime_interp[indeces])\n",
    "    return delta_values, PDF_values"
   ]
  },
  {
   "cell_type": "code",
   "execution_count": 8,
   "metadata": {},
   "outputs": [],
   "source": [
    "delta_values, PDF_values = PDF_from_inv_Laplace_transform(1.0, 15.0, 0.0, 1.0, 0)"
   ]
  },
  {
   "cell_type": "code",
   "execution_count": 15,
   "metadata": {},
   "outputs": [],
   "source": [
    "delta_values, PDF_values_PNG = PDF_from_inv_Laplace_transform(1.0, 15.0, 100.0, 1.0, 0)"
   ]
  },
  {
   "cell_type": "code",
   "execution_count": 9,
   "metadata": {},
   "outputs": [
    {
     "name": "stdout",
     "output_type": "stream",
     "text": [
      "[-0.91757939 -0.9175691  -0.91755881 ...  3.85386951  3.86154671\n",
      "  3.8692433 ]\n"
     ]
    }
   ],
   "source": [
    "delta_values, PDF_values_saddle_point_approx = PDF_from_saddlepoint(1.0, 15.0, 0.0, 1.0, 0)"
   ]
  },
  {
   "cell_type": "code",
   "execution_count": 18,
   "metadata": {},
   "outputs": [
    {
     "data": {
      "image/png": "[encoded data removed]",
      "text/plain": [
       "<matplotlib.figure.Figure at 0x1160f8150>"
      ]
     },
     "metadata": {
      "needs_background": "light"
     },
     "output_type": "display_data"
    }
   ],
   "source": [
    "plt.plot(delta_values, PDF_values, linewidth=3, linestyle='solid', label='inverse Laplace')\n",
    "plt.plot(delta_values, PDF_values_saddle_point_approx, linewidth=3, linestyle='dashed', label='saddle point approx')\n",
    "plt.plot(delta_values, PDF_values_PNG, linewidth=3, linestyle='dotted', label=r'$f_{\\mathrm{NL}} = 100$')\n",
    "\n",
    "\n",
    "plt.legend(fontsize=13, loc='upper right')\n",
    "plt.xticks(fontsize=14)\n",
    "plt.yticks(fontsize=14)\n",
    "\n",
    "plt.xlabel(r'$\\delta$', size = 20)\n",
    "plt.ylabel(r'$\\mathrm{PDF}(\\delta)$', size = 20)\n",
    "plt.subplots_adjust(left  = 0.18, right = 0.97, bottom=0.17, top=0.92)"
   ]
  },
  {
   "cell_type": "code",
   "execution_count": 11,
   "metadata": {},
   "outputs": [],
   "source": [
    "\n",
    "# This is code for extracting individual moments from the CGF:\n",
    "\n",
    "def factoria(n):\n",
    "    fact = np.ones(n+1)\n",
    "    for i in range(1, n+1):\n",
    "        fact[i] = fact[i-1]*float(i)\n",
    "    return fact\n",
    "\n",
    "def Bell_polynomial(n, k, x, fact):\n",
    "    n = int(n+0.1)\n",
    "    k = int(k+0.1)\n",
    "    \n",
    "    if n == 0 and k == 0:\n",
    "        return 1.0\n",
    "    if n == 0 and k != 0:\n",
    "        return 0.0\n",
    "    if n != 0 and k == 0:\n",
    "        return 0.0\n",
    "    \n",
    "    sum = 0.0\n",
    "    \n",
    "    for i in range(1, n-k+2):\n",
    "        binomial = fact[n-1]/fact[n-i]/fact[i-1]\n",
    "        sum += x[i]*binomial*Bell_polynomial(n-i, k-1, x, fact)\n",
    "    \n",
    "    return sum\n",
    "\n",
    "\n",
    "def return_Bell_matrix(lambda_coeffs_wrt_tau):\n",
    "    n = len(lambda_coeffs_wrt_tau)\n",
    "    fact = factoria(n)\n",
    "    x = np.zeros(n);\n",
    "    Bell_matrix = np.zeros((n,n))\n",
    "    inverse_Bell_matrix = np.zeros((n,n))\n",
    "    \n",
    "    for i in range(0, n):\n",
    "        x[i] = lambda_coeffs_wrt_tau[i]*fact[i];\n",
    "        \n",
    "    for i in range(0, n):\n",
    "        for j in range(0, i+1):\n",
    "            Bell_matrix[i,j] = Bell_polynomial(i, j, x, fact)\n",
    "            \n",
    "    inverse_Bell_matrix = np.linalg.inv(np.matrix(Bell_matrix))\n",
    "    return inverse_Bell_matrix, Bell_matrix\n",
    "\n",
    "\n",
    "def find_moments(lambda_values, phi_values, phi_prime_values, tau_values, R_L_values, R_min, R_max, degree):\n",
    "    n = len(lambda_values)\n",
    "    indices = np.where(lambda_values[1:] > lambda_values[:n-1])[0]\n",
    "    \n",
    "    lambda_max = lambda_values[0]\n",
    "    check = 1\n",
    "    n_cut = 0\n",
    "    for i in range(1,n):\n",
    "        if lambda_values[i] > lambda_max and check == 1:\n",
    "            lambda_max = lambda_values[i]\n",
    "            n_cut = i\n",
    "        else:\n",
    "            check = 0\n",
    "    \n",
    "    \n",
    "    lambda_cut    = lambda_values[:n_cut]\n",
    "    phi_cut       = phi_values[:n_cut]\n",
    "    phi_prime_cut = phi_prime_values[:n_cut]\n",
    "    tau_cut       = tau_values[:n_cut]\n",
    "    R_cut         = R_L_values[:n_cut]\n",
    "    \n",
    "    \n",
    "    tau_max = np.max(tau_cut)*0.9\n",
    "    tau_min = np.min(tau_cut)*0.9\n",
    "    #tau_min = -tau_max\n",
    "    \n",
    "    if R_cut[n_cut-1] > R_max:\n",
    "        tau_max = np.min([tau_max, np.interp(R_max, R_cut, tau_cut)])\n",
    "    if R_cut[0] < R_min:\n",
    "        tau_min = np.max[tau_min, np.interp(R_min, R_cut, tau_cut)]\n",
    "    \n",
    "    #tau_max = np.min([tau_max, -tau_min])\n",
    "    #tau_min = -tau_max\n",
    "    \n",
    "    \n",
    "    N_tau = 8*degree+1\n",
    "    tau_support_points = np.zeros(N_tau)\n",
    "    dtau = -tau_min/float(N_tau/2)\n",
    "    tau_support_points[:N_tau/2] = np.arange(tau_min, 0.0-0.5*dtau, dtau)\n",
    "    tau_support_points[N_tau/2] = 0.0\n",
    "    dtau = tau_max/float(N_tau/2)\n",
    "    tau_support_points[N_tau/2+1:] = np.arange(0.0, tau_max-0.5*dtau, tau_max/float(N_tau/2))+tau_max/float(N_tau/2)\n",
    "    phi_prime_points = np.interp(tau_support_points, tau_cut, phi_prime_cut)\n",
    "    lambda_support_points = np.interp(tau_support_points, tau_cut, lambda_cut)\n",
    "    \n",
    "    delta_NL_coeffs_wrt_tau =  np.polyfit(tau_support_points, phi_prime_points, degree)\n",
    "    delta_NL_coeffs_wrt_tau = np.flip(delta_NL_coeffs_wrt_tau)\n",
    "    lambda_coeffs_wrt_tau =  np.polyfit(tau_support_points, lambda_support_points, degree)\n",
    "    lambda_coeffs_wrt_tau = np.flip(lambda_coeffs_wrt_tau)\n",
    "    \n",
    "    inverse_Bell_matrix, Bell_matrix = return_Bell_matrix(lambda_coeffs_wrt_tau)\n",
    "    \n",
    "    delta_NL_coeffs_wrt_lambda = np.zeros(degree+1)\n",
    "    fact = factoria(degree+1)\n",
    "    \n",
    "    for i in range(0, degree+1):\n",
    "        for j in range(0, i+1):\n",
    "            delta_NL_coeffs_wrt_lambda[i] += inverse_Bell_matrix[i,j]*delta_NL_coeffs_wrt_tau[j]*fact[j]\n",
    "        #delta_NL_coeffs_wrt_lambda[i] /= fact[i]\n",
    "    \n",
    "    for i in range(degree, 0, -1):\n",
    "        delta_NL_coeffs_wrt_lambda[i] = delta_NL_coeffs_wrt_lambda[i-1]#/float(i);\n",
    "    delta_NL_coeffs_wrt_lambda[i] = 0.0\n",
    "    \n",
    "    return delta_NL_coeffs_wrt_lambda"
   ]
  },
  {
   "cell_type": "code",
   "execution_count": 12,
   "metadata": {},
   "outputs": [],
   "source": [
    "var_NL_rescale = 1.0\n",
    "f_NL = 3.0\n",
    "z = 1.0\n",
    "R = 15.0\n",
    "\n",
    "d_L_values, d_NL_values, lambda_values, phi_values, lambda_G_values, phi_G_values, var_lin_values, skew_lin_values, R_L_values = CGF(z, R, f_NL, var_NL_rescale, 0)\n",
    "tau_values = d_L_values/var_lin_values"
   ]
  },
  {
   "cell_type": "code",
   "execution_count": 13,
   "metadata": {},
   "outputs": [
    {
     "data": {
      "image/png": "[encoded data removed]",
      "text/plain": [
       "<matplotlib.figure.Figure at 0x116a8fad0>"
      ]
     },
     "metadata": {
      "needs_background": "light"
     },
     "output_type": "display_data"
    }
   ],
   "source": [
    "\n",
    "n_max = 8\n",
    "plt.figure(figsize=(6,6))\n",
    "\n",
    "moments_G = find_moments(lambda_G_values, phi_G_values, d_NL_values, tau_values, R_L_values, 5.0, 45.0, 15)\n",
    "moments_PNG = find_moments(lambda_values, phi_values, d_NL_values, tau_values, R_L_values, 5.0, 45.0, 15)\n",
    "plt.plot(range(2, n_max), moments_PNG[2:n_max]/moments_G[2:n_max], label='degree = 15', linewidth=4, linestyle='-')\n",
    "\n",
    "\n",
    "moments_G = find_moments(lambda_G_values, phi_G_values, d_NL_values, tau_values, R_L_values, 5.0, 45.0, 16)\n",
    "moments_PNG = find_moments(lambda_values, phi_values, d_NL_values, tau_values, R_L_values, 5.0, 45.0, 16)\n",
    "plt.plot(range(2, n_max), moments_PNG[2:n_max]/moments_G[2:n_max], label='degree = 16', linewidth=4, linestyle='--')\n",
    "\n",
    "\n",
    "moments_G = find_moments(lambda_G_values, phi_G_values, d_NL_values, tau_values, R_L_values, 5.0, 45.0, 17)\n",
    "moments_PNG = find_moments(lambda_values, phi_values, d_NL_values, tau_values, R_L_values, 5.0, 45.0, 17)\n",
    "plt.plot(range(2, n_max), moments_PNG[2:n_max]/moments_G[2:n_max], label='degree = 17', linewidth=4, linestyle='-.')\n",
    "\n",
    "\n",
    "moments_G = find_moments(lambda_G_values, phi_G_values, d_NL_values, tau_values, R_L_values, 5.0, 45.0, 18)\n",
    "moments_PNG = find_moments(lambda_values, phi_values, d_NL_values, tau_values, R_L_values, 5.0, 45.0, 18)\n",
    "plt.plot(range(2, n_max), moments_PNG[2:n_max]/moments_G[2:n_max], label='degree = 18', linewidth=4, linestyle='dotted')\n",
    "\n",
    "\n",
    "plt.xticks(fontsize=15)\n",
    "plt.yticks(fontsize=15)\n",
    "\n",
    "plt.plot(range(2, n_max+1), np.ones(n_max-1), linestyle='dashed', color='grey')\n",
    "plt.xlim(1.8, n_max-0.8)\n",
    "plt.ylim(0.998, 1.0 + 1.1*(moments_PNG[n_max-1]/moments_G[n_max-1]-1.0))\n",
    "plt.legend(fontsize=15, handlelength=2.35)\n",
    "plt.title('$z=1$, $R=15$ Mpc, '+r'$f_{\\mathrm{NL}}^{\\mathrm{local}} = 3$'+'\\nfitting polynomials of different degree to CGF', size = 17)\n",
    "plt.xlabel(r'$n$', size = 22)\n",
    "plt.ylabel(r'$\\langle \\delta^n \\rangle_{c,\\mathrm{PNG}}/\\langle \\delta^n \\rangle_{c,\\mathrm{Gauss}}$', size = 22)\n",
    "plt.subplots_adjust(left=0.19, bottom=0.12, right=0.95, top=0.87)"
   ]
  },
  {
   "cell_type": "code",
   "execution_count": null,
   "metadata": {},
   "outputs": [],
   "source": []
  }
 ],
 "metadata": {
  "anaconda-cloud": {
   "environment": null,
   "summary": "trough lenser python notebook",
   "url": "https://anaconda.org/danielgruen/returning_data_vector_to_notebook-py"
  },
  "kernelspec": {
   "display_name": "Python 2",
   "language": "python",
   "name": "python2"
  },
  "language_info": {
   "codemirror_mode": {
    "name": "ipython",
    "version": 2
   },
   "file_extension": ".py",
   "mimetype": "text/x-python",
   "name": "python",
   "nbconvert_exporter": "python",
   "pygments_lexer": "ipython2",
   "version": "2.7.16"
  }
 },
 "nbformat": 4,
 "nbformat_minor": 1
}
