{
 "cells": [
  {
   "cell_type": "markdown",
   "metadata": {},
   "source": [
    "# Example Notebook for use of CosMomentum\n",
    "## Table of contents:\n",
    "\n",
    "- Section 1: initialising a universe and its matter content\n",
    "- Section 2: computing the PDF of matter density fluctuations\n",
    "- Section 3: computing the cumulant generating function and individual connected moments\n",
    "- Section 4: creating 3D galaxy samples and computing their counts-in-cells PDF\n",
    "- Section 5: creating line-of-sight projected galaxy samples and computing their counts-in-cells PDF"
   ]
  },
  {
   "cell_type": "code",
   "execution_count": 1,
   "metadata": {},
   "outputs": [],
   "source": [
    "# loading required packages\n",
    "import ctypes\n",
    "import sys\n",
    "import numpy as np\n",
    "import os\n",
    "import matplotlib.pyplot as plt"
   ]
  },
  {
   "cell_type": "code",
   "execution_count": 2,
   "metadata": {},
   "outputs": [],
   "source": [
    "# compiling and loading c++ library\n",
    "os.system(\"cd cpp_code; make DSS\")\n",
    "lib=ctypes.CDLL(\"./cpp_code/DSS.so\")"
   ]
  },
  {
   "cell_type": "markdown",
   "metadata": {},
   "source": [
    "# Section 1: initialising a universe and its matter content"
   ]
  },
  {
   "cell_type": "code",
   "execution_count": 3,
   "metadata": {},
   "outputs": [],
   "source": [
    "# initialising a new universe and its matter content\n",
    "a_initial = 0.000025\n",
    "a_final = 1.0\n",
    "\n",
    "initialise_new_Universe = lib.initialise_new_Universe\n",
    "# initialise_new_Universe          (double a_initial,  double a_final,  double Omega_m,  double Omega_b,  double Omega_r,  double Omega_L,  double sigma_8,      double n_s,    double h_100,       double w0,       double w1)\n",
    "initialise_new_Universe.argtypes = [ ctypes.c_double, ctypes.c_double, ctypes.c_double, ctypes.c_double, ctypes.c_double, ctypes.c_double, ctypes.c_double, ctypes.c_double, ctypes.c_double, ctypes.c_double, ctypes.c_double]\n",
    "initialise_new_Universe.restype = None\n",
    "\n",
    "# Cosmology of Quijote sims\n",
    "Omfid = 0.3175\n",
    "Obfid = 0.049\n",
    "hfid = 0.6711\n",
    "nsfid = 0.9624\n",
    "sig8fid = 0.834\n",
    "\n",
    "# Cosmology of DEUS sims\n",
    "Omfid = 0.2573\n",
    "Obfid = 0.04356 \n",
    "hfid = 0.7200\n",
    "nsfid = 0.9630\n",
    "sig8fid = 0.8010\n",
    "\n",
    "# Cosmology of Buzzard sims\n",
    "Omfid = 0.286\n",
    "Obfid = 0.047\n",
    "hfid = 0.7\n",
    "nsfid = 0.96\n",
    "sig8fid = 0.82\n",
    "f_NL = 0.0\n",
    "\n",
    "density_sample_1 = 69.47036304452095/(np.pi*30.0**2)\n",
    "b1_sample_1 = 1.8\n",
    "b2_sample_1 = 0.0\n",
    "a0 = 1.26\n",
    "a1 = 0.28\n",
    "\n",
    "z = 1.0 # everywhere in this notebook\n",
    "\n",
    "initialise_new_Universe(a_initial, a_final, Omfid, Obfid, 0.0, 1.0-Omfid, sig8fid, nsfid, hfid, -1.0, 0.0)"
   ]
  },
  {
   "cell_type": "markdown",
   "metadata": {},
   "source": [
    "# Section 5: creating line-of-sight projected galaxy samples and computing their counts-in-cells PDF\n",
    "\n",
    "## This part also uses the bias and shot-noise model described in section IV.C.2 of https://arxiv.org/abs/1710.05162 ."
   ]
  },
  {
   "cell_type": "code",
   "execution_count": 4,
   "metadata": {},
   "outputs": [],
   "source": [
    "\n",
    "\n",
    "\n",
    "add_projected_galaxy_sample = lib.add_projected_galaxy_sample\n",
    "# add_projected_galaxy_sample          (int index_of_universe, const char *n_of_z_file, double density_in_Mpc_over_h_cubed,        double b1,        double b2,       double a0,       double a1)\n",
    "add_projected_galaxy_sample.argtypes = [         ctypes.c_int,         ctypes.c_char_p,                    ctypes.c_double,  ctypes.c_double,  ctypes.c_double, ctypes.c_double, ctypes.c_double]\n",
    "add_projected_galaxy_sample.restype = None\n",
    "\n",
    "\n",
    "return_N_max_projected = lib.return_N_max_projected\n",
    "# int return_N_max_projected      (int index_of_galaxy_sample, double R_in_Mpc_over_h, double var_NL_rescale)\n",
    "return_N_max_projected.argtypes = [              ctypes.c_int,        ctypes.c_double,       ctypes.c_double]\n",
    "return_N_max_projected.restype = ctypes.c_int\n",
    "\n",
    "\n",
    "change_parameters_of_projected_galaxy_sample = lib.change_parameters_of_projected_galaxy_sample\n",
    "# change_parameters_of_projected_galaxy_sample          (int index_of_galaxy_sample,        double z, double density_in_Mpc_over_h_cubed,        double b1,        double b2,       double a0,       double a1)\n",
    "change_parameters_of_projected_galaxy_sample.argtypes = [              ctypes.c_int, ctypes.c_double,                    ctypes.c_double,  ctypes.c_double,  ctypes.c_double, ctypes.c_double, ctypes.c_double]\n",
    "change_parameters_of_projected_galaxy_sample.restype = None\n",
    "\n",
    "change_b2_to_minimise_negative_densities_projected = lib.change_b2_to_minimise_negative_densities_projected\n",
    "# change_b2_to_minimise_negative_densities_projected          (int index_of_galaxy_sample, double R_in_Mpc_over_h, double var_NL_rescale)\n",
    "change_b2_to_minimise_negative_densities_projected.argtypes = [              ctypes.c_int,        ctypes.c_double,       ctypes.c_double]\n",
    "change_b2_to_minimise_negative_densities_projected.restype = ctypes.c_double\n"
   ]
  },
  {
   "cell_type": "code",
   "execution_count": 5,
   "metadata": {},
   "outputs": [],
   "source": [
    "# Creating first galaxy sample (lenses)\n",
    "n_of_z_file_str = 'Data/redshift_distributions/lens_galaxy_pofz.dat'\n",
    "n_of_z_file = ctypes.c_char_p(n_of_z_file_str.encode('utf-8'))\n",
    "add_projected_galaxy_sample(0, n_of_z_file, density_sample_1, b1_sample_1, b2_sample_1, a0, a1)"
   ]
  },
  {
   "cell_type": "code",
   "execution_count": 6,
   "metadata": {},
   "outputs": [],
   "source": [
    "# Creating second galaxy sample (sources)\n",
    "n_of_z_file_str = 'Data/redshift_distributions/source_galaxy_pofz.tab'\n",
    "n_of_z_file = ctypes.c_char_p(n_of_z_file_str.encode('utf-8'))\n",
    "add_projected_galaxy_sample(0, n_of_z_file, density_sample_1, b1_sample_1, b2_sample_1, a0, a1)"
   ]
  },
  {
   "cell_type": "code",
   "execution_count": 7,
   "metadata": {},
   "outputs": [
    {
     "name": "stdout",
     "output_type": "stream",
     "text": [
      "14.9980817824\n"
     ]
    }
   ],
   "source": [
    "\n",
    "return_R_in_Mpc_over_h_from_angular_scale = lib.return_R_in_Mpc_over_h_from_angular_scale\n",
    "# return_R_in_Mpc_over_h_from_angular_scale          (int index_of_galaxy_sample, double theta_in_arcmin)\n",
    "return_R_in_Mpc_over_h_from_angular_scale.argtypes = [              ctypes.c_int,        ctypes.c_double]\n",
    "return_R_in_Mpc_over_h_from_angular_scale.restype = ctypes.c_double\n",
    "\n",
    "theta = 30.0\n",
    "R_2D = return_R_in_Mpc_over_h_from_angular_scale(0, theta)\n",
    "print R_2D"
   ]
  },
  {
   "cell_type": "code",
   "execution_count": 8,
   "metadata": {},
   "outputs": [],
   "source": [
    "\n",
    "configure_FLASK_for_delta_g_and_kappa = lib.configure_FLASK_for_delta_g_and_kappa\n",
    "# configure_FLASK_for_delta_g_and_kappa          (   int l_max, double theta_in_arcmin,     double bias,        double r, int index_of_lens_sample, int index_of_source_sample, const char *n_of_z_file)\n",
    "configure_FLASK_for_delta_g_and_kappa.argtypes = [ctypes.c_int,        ctypes.c_double, ctypes.c_double, ctypes.c_double,             ctypes.c_int,               ctypes.c_int,         ctypes.c_char_p]\n",
    "configure_FLASK_for_delta_g_and_kappa.restype = None"
   ]
  },
  {
   "cell_type": "code",
   "execution_count": 10,
   "metadata": {},
   "outputs": [],
   "source": [
    "l_max = 10000\n",
    "theta_in_arcmin = 30.0\n",
    "bias = 2.0\n",
    "r = 0.95\n",
    "index_of_lens_sample = 0\n",
    "index_of_source_sample = 1\n",
    "\n",
    "output_file_str = 'FLASK_config.tab'\n",
    "output_file = ctypes.c_char_p(output_file_str.encode('utf-8'))\n",
    "configure_FLASK_for_delta_g_and_kappa(l_max, theta_in_arcmin, bias, r, index_of_lens_sample, index_of_source_sample, output_file)"
   ]
  },
  {
   "cell_type": "code",
   "execution_count": null,
   "metadata": {},
   "outputs": [],
   "source": []
  },
  {
   "cell_type": "code",
   "execution_count": 11,
   "metadata": {},
   "outputs": [
    {
     "name": "stdout",
     "output_type": "stream",
     "text": [
      "10001\n"
     ]
    }
   ],
   "source": [
    "lib_legendres=ctypes.CDLL(\"./legendres.so\")\n",
    "\n",
    "lmax = 10000\n",
    "\n",
    "print_Legendres = lib_legendres.print_Legendres\n",
    "# print_Legendres          ( int ell_max, double cos_theta,                           double *coeffs)\n",
    "print_Legendres.argtypes = [ctypes.c_int,  ctypes.c_double, ctypes.POINTER(ctypes.c_double*(lmax+1))]\n",
    "print_Legendres.restype = None\n",
    "\n",
    "coeffs = (ctypes.c_double*(lmax+1))()\n",
    "cos_theta = np.cos(theta_in_arcmin*np.pi/180.0/60.0)\n",
    "print_Legendres(lmax, cos_theta, ctypes.byref(coeffs))\n",
    "coeffs = np.array(coeffs)\n",
    "print len(coeffs)\n"
   ]
  },
  {
   "cell_type": "code",
   "execution_count": 19,
   "metadata": {},
   "outputs": [],
   "source": [
    "C_ell_data = np.loadtxt(output_file_str)\n",
    "C_ell_data_CMB = np.loadtxt(\"FLASK_config_Cells\")"
   ]
  },
  {
   "cell_type": "code",
   "execution_count": 20,
   "metadata": {},
   "outputs": [
    {
     "data": {
      "text/plain": [
       "[<matplotlib.lines.Line2D at 0x1190d8610>]"
      ]
     },
     "execution_count": 20,
     "metadata": {},
     "output_type": "execute_result"
    },
    {
     "data": {
      "image/png": "[encoded data removed]",
      "text/plain": [
       "<matplotlib.figure.Figure at 0x119b1d650>"
      ]
     },
     "metadata": {
      "needs_background": "light"
     },
     "output_type": "display_data"
    }
   ],
   "source": [
    "plt.loglog(C_ell_data[:,0], C_ell_data[:,1])\n",
    "plt.loglog(C_ell_data_CMB[:,0], C_ell_data_CMB[:,1], linestyle='dashed')"
   ]
  },
  {
   "cell_type": "code",
   "execution_count": 23,
   "metadata": {},
   "outputs": [
    {
     "data": {
      "text/plain": [
       "[<matplotlib.lines.Line2D at 0x11b1a7950>]"
      ]
     },
     "execution_count": 23,
     "metadata": {},
     "output_type": "execute_result"
    },
    {
     "data": {
      "image/png": "[encoded data removed]",
      "text/plain": [
       "<matplotlib.figure.Figure at 0x119cfaf50>"
      ]
     },
     "metadata": {
      "needs_background": "light"
     },
     "output_type": "display_data"
    }
   ],
   "source": [
    "plt.semilogx(C_ell_data[2:,0], C_ell_data[2:,1]/C_ell_data_CMB[2:,1])"
   ]
  },
  {
   "cell_type": "code",
   "execution_count": 13,
   "metadata": {},
   "outputs": [
    {
     "name": "stdout",
     "output_type": "stream",
     "text": [
      "0.0485026269710039 0.0005807211168250841 8.950112725296742e-06 4.041184074760543e-05\n"
     ]
    }
   ],
   "source": [
    "ell_max = 2048\n",
    "var_gg = np.sum((2.0*C_ell_data[:ell_max+1,0]+1.0)/(4.0*np.pi)*C_ell_data[:ell_max+1,1]*coeffs[:ell_max+1]**2)\n",
    "cov_gk = np.sum((2.0*C_ell_data[:ell_max+1,0]+1.0)/(4.0*np.pi)*C_ell_data[:ell_max+1,2]*coeffs[:ell_max+1]**2)\n",
    "var_kk_corr = np.sum((2.0*C_ell_data[:ell_max+1,0]+1.0)/(4.0*np.pi)*C_ell_data[:ell_max+1,3]*coeffs[:ell_max+1]**2)\n",
    "var_kk_uncorr = np.sum((2.0*C_ell_data[:ell_max+1,0]+1.0)/(4.0*np.pi)*C_ell_data[:ell_max+1,4]*coeffs[:ell_max+1]**2)\n",
    "\n",
    "print var_gg, cov_gk, var_kk_corr, var_kk_uncorr\n",
    "# var_g = 4.85771e-02 ;  cov_gk = 1.06951e-03 ;  var_k_correlated = 3.07013e-05 ;  var_k_uncorrelated = 3.82973e-04"
   ]
  },
  {
   "cell_type": "code",
   "execution_count": 14,
   "metadata": {},
   "outputs": [
    {
     "data": {
      "text/plain": [
       "[<matplotlib.lines.Line2D at 0x1190c57d0>]"
      ]
     },
     "execution_count": 14,
     "metadata": {},
     "output_type": "execute_result"
    },
    {
     "data": {
      "image/png": "[encoded data removed]",
      "text/plain": [
       "<matplotlib.figure.Figure at 0x10b116390>"
      ]
     },
     "metadata": {
      "needs_background": "light"
     },
     "output_type": "display_data"
    }
   ],
   "source": [
    "plt.loglog(C_ell_data[:,0], C_ell_data[:,1])\n",
    "plt.loglog(C_ell_data[:,0], C_ell_data[:,2])\n",
    "plt.loglog(C_ell_data[:,0], C_ell_data[:,3])\n",
    "plt.loglog(C_ell_data[:,0], C_ell_data[:,4])"
   ]
  },
  {
   "cell_type": "code",
   "execution_count": 15,
   "metadata": {},
   "outputs": [
    {
     "data": {
      "text/plain": [
       "[<matplotlib.lines.Line2D at 0x1190b2e90>]"
      ]
     },
     "execution_count": 15,
     "metadata": {},
     "output_type": "execute_result"
    },
    {
     "data": {
      "image/png": "[encoded data removed]",
      "text/plain": [
       "<matplotlib.figure.Figure at 0x10a1bec10>"
      ]
     },
     "metadata": {
      "needs_background": "light"
     },
     "output_type": "display_data"
    }
   ],
   "source": [
    "\n",
    "plt.semilogx(C_ell_data[:,0], (2.0*C_ell_data[:,0]+1.0)/(4.0*np.pi)*C_ell_data[:,1])\n",
    "plt.semilogx(C_ell_data[:,0], coeffs**2)"
   ]
  },
  {
   "cell_type": "code",
   "execution_count": null,
   "metadata": {},
   "outputs": [],
   "source": []
  }
 ],
 "metadata": {
  "anaconda-cloud": {
   "environment": null,
   "summary": "trough lenser python notebook",
   "url": "https://anaconda.org/danielgruen/returning_data_vector_to_notebook-py"
  },
  "kernelspec": {
   "display_name": "Python 2",
   "language": "python",
   "name": "python2"
  },
  "language_info": {
   "codemirror_mode": {
    "name": "ipython",
    "version": 2
   },
   "file_extension": ".py",
   "mimetype": "text/x-python",
   "name": "python",
   "nbconvert_exporter": "python",
   "pygments_lexer": "ipython2",
   "version": "2.7.16"
  }
 },
 "nbformat": 4,
 "nbformat_minor": 1
}
